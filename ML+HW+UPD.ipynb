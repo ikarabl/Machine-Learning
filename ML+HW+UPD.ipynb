{
 "cells": [
  {
   "cell_type": "code",
   "execution_count": 85,
   "metadata": {
    "collapsed": true
   },
   "outputs": [],
   "source": [
    "import pandas as pd\n",
    "import re\n",
    "import pymorphy2 as pm"
   ]
  },
  {
 "cells": [
  {
   "cell_type": "code",
   "execution_count": 85,
   "metadata": {
    "collapsed": true
   },
   "outputs": [],
   "source": [
    "%matplotlib inline",
    "news = pd.read_csv('raw_news.csv', index_col=0)",
    "number_of_articles = news.groupby('event_id').size()"
   ]
  },
  {
   "cell_type": "code",
   "execution_count": 86,
   "metadata": {
    "collapsed": true
   },
   "outputs": [],
   "source": [
    "morph = pm.MorphAnalyzer()#лемматизируем с помощью pymorphy. работает долго)\n",
    "def words(str):\n",
    "    nolinks = ' '.join([word for word in str.split() if (not re.findall('https?://\\w.*|\\w+\\.\\w+', word))])#удалили ссылки\n",
    "    clean_line = re.sub('[\\W\\d_-]+', ' ', nolinks.lower().strip())\n",
    "    ws = re.split(' +', clean_line)\n",
    "    return [morph.parse(w)[0].normal_form for w in ws]\n",
    "df = pd.read_csv('raw_news.csv', index_col=0)\n",
    "texts = list(set(df['text'])) #прочитали тексты\n",
    "text_list = [words(text) for text in texts]  # список списков слов\n",
    "\n",
    "\n",
    "\n",
    "\n"
   ]
  },
  {
   "cell_type": "code",
   "execution_count": 88,
   "metadata": {},
   "outputs": [
    {
     "name": "stdout",
     "output_type": "stream",
     "text": [
      "<class 'list'>\n",
      "<class 'str'>\n",
      "1924\n",
      "<class 'list'>\n",
      "<class 'list'>\n",
      "1924\n"
     ]
    }
   ],
   "source": [
    "df = pd.read_csv('raw_news.csv', index_col=0)\n",
    "texts = list(set(df['text'])) #прочитали тексты\n",
    "text_list = [words(text) for text in texts] # список списков слов \n",
    "print(type(texts))\n",
    "print(type(texts[1920]))\n",
    "print(len(texts))\n",
    "print(type(text_list))\n",
    "print(type(text_list[1920]))\n",
    "print(len(text_list))\n"
   ]
  },
  {
   "cell_type": "code",
   "execution_count": 89,
   "metadata": {},
   "outputs": [
    {
     "data": {
      "text/plain": [
       "1930"
      ]
     },
     "execution_count": 89,
     "metadata": {},
     "output_type": "execute_result"
    }
   ],
   "source": [
    "len(df['text'])"
   ]
  },
  {
   "cell_type": "code",
   "execution_count": 53,
   "metadata": {},
   "outputs": [
    {
     "name": "stdout",
     "output_type": "stream",
     "text": [
      "['lentaru', 'москва', '10', 'сентября', '2017', 'жириновский', 'призвал', 'перенести', 'все', 'выборы', 'на', 'будний', 'весенний', 'день', 'лидер', 'лдпр', 'владимир', 'жириновский', 'призвал', 'перенести', 'единый', 'день', 'голосования', 'на', 'весну', 'об', 'этом', 'он', 'заявил', 'в', 'ходе', 'онлайнмарафона', 'ночь', 'выборов', '2017', 'мы', 'в', 'партии', 'лдпр', 'за', 'перенос', 'на', 'весну', 'на', 'будний', 'день', 'это', 'повысит', 'явку', 'иначе', 'праздники', 'сейчас', 'лето', 'все', 'испорчено', '', 'заявил', 'жириновский', 'при', 'этом', 'он', 'подверг', 'критике', 'проведение', 'выборов', 'муниципальных', 'депутатов', 'в', 'москве', 'одновременно', 'с', 'днем', 'города', 'что', 'такое', 'явка', '12', 'процентов', 'это', 'значит', 'что', 'даже', 'миллиона', 'москвичей', 'не', 'пришло', 'на', 'выборы', 'а', 'почему', 'потому', 'что', 'логики', 'нет', '', 'отметил', 'он', 'день', 'города', '', 'это', 'позор', 'как', 'можно', 'устраивать', 'праздник', 'в', 'городе', 'где', 'идут', 'огромные', 'выборы', 'ведь', 'мы', 'выбираем', 'из', '15', 'тысяч', 'человек', 'а', 'тут', 'праздник', 'а', 'потом', 'удивляются', '', 'почему', 'пришло', 'мало', 'людей', 'так', 'вы', 'не', 'устраивайте', 'праздник', '', 'подчеркнул', 'жириновский', 'ранее', 'лидер', 'партии', 'справедливая', 'россия', 'сергей', 'миронов', 'также', 'предложил', 'перенести', 'единый', 'день', 'голосования', 'мы', 'предлагали', 'хотя', 'бы', 'третье', 'воскресенье', 'октября', 'или', 'давайте', 'проводить', 'выборы', 'в', 'марте', '', 'заявил', 'он', 'избирательные', 'участки', 'в', 'москве', 'закрылись', 'в', '2000', 'всего', 'на', '1502', 'места', 'претендовали', 'более', '75', 'тысяч', 'кандидатов', 'то', 'есть', 'в', 'среднем', 'более', 'пяти', 'человек', 'на', 'место', 'выборы', 'депутатов', 'проходили', 'в', '125', 'муниципалитетах', 'во', 'всех', 'районах', 'старой', 'москвы', 'кроме', 'щукино', 'и', 'в', 'городском', 'округе', 'троицк', 'в', 'новой', 'москве', 'в', 'выборах', 'приняли', 'участие', 'кандидаты', 'от', 'единой', 'россии', 'кпрф', 'лдпр', 'справедливой', 'россии', 'яблока', 'парнаса', 'и', 'других', 'партий', 'владимир', 'жириновский', 'httpslentarunews20170910protivvseh']\n"
     ]
    }
   ],
   "source": [
    "cleaner_txt = []\n",
    "for w in txt:\n",
    "    cleaner_txt.append(re.sub(r'[\\W]+', '', w))\n",
    "if '' in cleaner_txt:\n",
    "    cleaner_txt.remove('')\n",
    "print(cleaner_txt)    "
   ]
  }
 ],
 "metadata": {
  "kernelspec": {
   "display_name": "Python 3",
   "language": "python",
   "name": "python3"
  },
  "language_info": {
   "codemirror_mode": {
    "name": "ipython",
    "version": 3
   },
   "file_extension": ".py",
   "mimetype": "text/x-python",
   "name": "python",
   "nbconvert_exporter": "python",
   "pygments_lexer": "ipython3",
   "version": "3.6.1"
  }
 },
 "nbformat": 4,
 "nbformat_minor": 2
}
